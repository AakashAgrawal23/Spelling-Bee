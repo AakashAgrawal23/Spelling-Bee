{
 "cells": [
  {
   "cell_type": "code",
   "execution_count": null,
   "id": "90515304",
   "metadata": {},
   "outputs": [],
   "source": [
    "pwd"
   ]
  },
  {
   "cell_type": "code",
   "execution_count": null,
   "id": "d23bd585",
   "metadata": {},
   "outputs": [],
   "source": [
    "cd .."
   ]
  },
  {
   "cell_type": "code",
   "execution_count": null,
   "id": "9412e5d0",
   "metadata": {},
   "outputs": [],
   "source": [
    "ls"
   ]
  },
  {
   "cell_type": "code",
   "execution_count": null,
   "id": "a5d7af56",
   "metadata": {},
   "outputs": [],
   "source": [
    "cd Words"
   ]
  },
  {
   "cell_type": "code",
   "execution_count": 201,
   "id": "1583a0a2",
   "metadata": {},
   "outputs": [
    {
     "data": {
      "text/plain": [
       "'/Users/owner/Desktop/Words'"
      ]
     },
     "execution_count": 201,
     "metadata": {},
     "output_type": "execute_result"
    }
   ],
   "source": [
    "pwd"
   ]
  },
  {
   "cell_type": "code",
   "execution_count": 202,
   "id": "57cc9f0a",
   "metadata": {},
   "outputs": [
    {
     "name": "stdout",
     "output_type": "stream",
     "text": [
      "english3.txt      oxford_words.txt  words_alpha.txt\r\n",
      "newfile.doc       words.txt         words_alpha.zip\r\n"
     ]
    }
   ],
   "source": [
    "ls"
   ]
  },
  {
   "cell_type": "code",
   "execution_count": 203,
   "id": "e06854be",
   "metadata": {},
   "outputs": [],
   "source": [
    "with open('english3.txt','r') as f:\n",
    "    contents = f.read()"
   ]
  },
  {
   "cell_type": "code",
   "execution_count": 204,
   "id": "18516b56",
   "metadata": {},
   "outputs": [],
   "source": [
    "contents = contents.split('\\n') #contains all the words in the .txt file"
   ]
  },
  {
   "cell_type": "code",
   "execution_count": 205,
   "id": "d4b62f10",
   "metadata": {},
   "outputs": [
    {
     "data": {
      "text/plain": [
       "194434"
      ]
     },
     "execution_count": 205,
     "metadata": {},
     "output_type": "execute_result"
    }
   ],
   "source": [
    "len(contents)"
   ]
  },
  {
   "cell_type": "code",
   "execution_count": 206,
   "id": "6627d1d7",
   "metadata": {},
   "outputs": [],
   "source": [
    "'''created data list to store words that have length greater than 3'''\n",
    "\n",
    "data = []\n",
    "\n",
    "for word in contents:\n",
    "    \n",
    "    if len(word) > 3:\n",
    "        \n",
    "        data.append(word)"
   ]
  },
  {
   "cell_type": "code",
   "execution_count": 207,
   "id": "7fe2a22b",
   "metadata": {},
   "outputs": [
    {
     "data": {
      "text/plain": [
       "192799"
      ]
     },
     "execution_count": 207,
     "metadata": {},
     "output_type": "execute_result"
    }
   ],
   "source": [
    "len(data)"
   ]
  },
  {
   "cell_type": "code",
   "execution_count": 208,
   "id": "9957c663",
   "metadata": {},
   "outputs": [
    {
     "name": "stdout",
     "output_type": "stream",
     "text": [
      "Please enter the center word of the puzzle: a\n"
     ]
    }
   ],
   "source": [
    "'''creating an input for centre letter'''\n",
    "\n",
    "while True:\n",
    "    \n",
    "    mid_letter = input('Please enter the center word of the puzzle: ')\n",
    "    \n",
    "    if len(mid_letter) == 1 and mid_letter.isalpha():\n",
    "        mid_letter = mid_letter.lower()\n",
    "        break\n",
    "    else:\n",
    "        print('\\nThe entered letter should be an alphabet and single letter!')"
   ]
  },
  {
   "cell_type": "code",
   "execution_count": 209,
   "id": "2c3d8434",
   "metadata": {},
   "outputs": [
    {
     "data": {
      "text/plain": [
       "'a'"
      ]
     },
     "execution_count": 209,
     "metadata": {},
     "output_type": "execute_result"
    }
   ],
   "source": [
    "mid_letter"
   ]
  },
  {
   "cell_type": "code",
   "execution_count": 210,
   "id": "069befb2",
   "metadata": {},
   "outputs": [
    {
     "name": "stdout",
     "output_type": "stream",
     "text": [
      "Please enter the surrounding words of the puzzle: t\n",
      "Please enter the surrounding words of the puzzle: y\n",
      "Please enter the surrounding words of the puzzle: i\n",
      "Please enter the surrounding words of the puzzle: r\n",
      "Please enter the surrounding words of the puzzle: p\n",
      "Please enter the surrounding words of the puzzle: u\n"
     ]
    }
   ],
   "source": [
    "'''creating user input for 6 other letters'''\n",
    "\n",
    "count = 0\n",
    "other_letter_list = []\n",
    "\n",
    "while True:\n",
    "    \n",
    "    other_letter = input('Please enter the surrounding words of the puzzle: ')\n",
    "    \n",
    "    if len(other_letter) == 1 and other_letter.isalpha() and other_letter not in other_letter_list and other_letter != mid_letter:\n",
    "        count +=1\n",
    "        other_letter_list.append(other_letter.lower())\n",
    "    else:\n",
    "        print(\"\\nPlease enter the correct letter! It should be single alphabet and make sure it's not repeated!!\")\n",
    "        \n",
    "    if count == 6:\n",
    "        break"
   ]
  },
  {
   "cell_type": "code",
   "execution_count": 211,
   "id": "fe456c20",
   "metadata": {},
   "outputs": [
    {
     "data": {
      "text/plain": [
       "['t', 'y', 'i', 'r', 'p', 'u']"
      ]
     },
     "execution_count": 211,
     "metadata": {},
     "output_type": "execute_result"
    }
   ],
   "source": [
    "other_letter_list"
   ]
  },
  {
   "cell_type": "code",
   "execution_count": 212,
   "id": "94a4e0f5",
   "metadata": {},
   "outputs": [],
   "source": [
    "other_letter_list.append(mid_letter)"
   ]
  },
  {
   "cell_type": "code",
   "execution_count": 213,
   "id": "a59374c9",
   "metadata": {},
   "outputs": [],
   "source": [
    "letter_list = other_letter_list"
   ]
  },
  {
   "cell_type": "code",
   "execution_count": 214,
   "id": "b4113ab1",
   "metadata": {},
   "outputs": [
    {
     "data": {
      "text/plain": [
       "['t', 'y', 'i', 'r', 'p', 'u', 'a']"
      ]
     },
     "execution_count": 214,
     "metadata": {},
     "output_type": "execute_result"
    }
   ],
   "source": [
    "letter_list"
   ]
  },
  {
   "cell_type": "code",
   "execution_count": 215,
   "id": "37e6ae46",
   "metadata": {},
   "outputs": [],
   "source": [
    "import string"
   ]
  },
  {
   "cell_type": "code",
   "execution_count": 216,
   "id": "895c04ac",
   "metadata": {},
   "outputs": [
    {
     "data": {
      "text/plain": [
       "'abcdefghijklmnopqrstuvwxyz'"
      ]
     },
     "execution_count": 216,
     "metadata": {},
     "output_type": "execute_result"
    }
   ],
   "source": [
    "string.ascii_lowercase"
   ]
  },
  {
   "cell_type": "code",
   "execution_count": 217,
   "id": "d2f677f1",
   "metadata": {},
   "outputs": [],
   "source": [
    "none_alpha = list(string.ascii_lowercase)"
   ]
  },
  {
   "cell_type": "code",
   "execution_count": 218,
   "id": "74ce8e28",
   "metadata": {},
   "outputs": [],
   "source": [
    "nope_list = [i for i in none_alpha if i not in letter_list]"
   ]
  },
  {
   "cell_type": "code",
   "execution_count": 219,
   "id": "d4e87d0d",
   "metadata": {},
   "outputs": [
    {
     "data": {
      "text/plain": [
       "19"
      ]
     },
     "execution_count": 219,
     "metadata": {},
     "output_type": "execute_result"
    }
   ],
   "source": [
    "len(nope_list)"
   ]
  },
  {
   "cell_type": "code",
   "execution_count": 220,
   "id": "717f3972",
   "metadata": {},
   "outputs": [
    {
     "data": {
      "text/plain": [
       "['b',\n",
       " 'c',\n",
       " 'd',\n",
       " 'e',\n",
       " 'f',\n",
       " 'g',\n",
       " 'h',\n",
       " 'j',\n",
       " 'k',\n",
       " 'l',\n",
       " 'm',\n",
       " 'n',\n",
       " 'o',\n",
       " 'q',\n",
       " 's',\n",
       " 'v',\n",
       " 'w',\n",
       " 'x',\n",
       " 'z']"
      ]
     },
     "execution_count": 220,
     "metadata": {},
     "output_type": "execute_result"
    }
   ],
   "source": [
    "nope_list"
   ]
  },
  {
   "cell_type": "code",
   "execution_count": 221,
   "id": "679adff6",
   "metadata": {},
   "outputs": [],
   "source": [
    "waste_list = []\n",
    "\n",
    "for word in data:\n",
    "    \n",
    "    for letter in nope_list:\n",
    "        \n",
    "        if letter in word:\n",
    "            \n",
    "            waste_list.append(word)\n",
    "            \n",
    "waste_list = set(waste_list)"
   ]
  },
  {
   "cell_type": "code",
   "execution_count": 222,
   "id": "169bd7d7",
   "metadata": {},
   "outputs": [
    {
     "data": {
      "text/plain": [
       "192621"
      ]
     },
     "execution_count": 222,
     "metadata": {},
     "output_type": "execute_result"
    }
   ],
   "source": [
    "len(waste_list)"
   ]
  },
  {
   "cell_type": "code",
   "execution_count": 223,
   "id": "83c1af80",
   "metadata": {},
   "outputs": [
    {
     "data": {
      "text/plain": [
       "178"
      ]
     },
     "execution_count": 223,
     "metadata": {},
     "output_type": "execute_result"
    }
   ],
   "source": [
    "len(data) - len(waste_list)    "
   ]
  },
  {
   "cell_type": "code",
   "execution_count": 224,
   "id": "502054ee",
   "metadata": {},
   "outputs": [],
   "source": [
    "res = [i for i in data if i not in waste_list]"
   ]
  },
  {
   "cell_type": "code",
   "execution_count": 225,
   "id": "5334035f",
   "metadata": {},
   "outputs": [],
   "source": [
    "waste_list2 = []\n",
    "\n",
    "for word in res:\n",
    "    \n",
    "    if 'a' not in word:\n",
    "        waste_list2.append(word)"
   ]
  },
  {
   "cell_type": "code",
   "execution_count": 226,
   "id": "698832ec",
   "metadata": {},
   "outputs": [
    {
     "data": {
      "text/plain": [
       "46"
      ]
     },
     "execution_count": 226,
     "metadata": {},
     "output_type": "execute_result"
    }
   ],
   "source": [
    "len(waste_list2)"
   ]
  },
  {
   "cell_type": "code",
   "execution_count": 227,
   "id": "fa57836e",
   "metadata": {},
   "outputs": [],
   "source": [
    "ans = [i for i in res if i not in waste_list2]"
   ]
  },
  {
   "cell_type": "code",
   "execution_count": 229,
   "id": "4673465a",
   "metadata": {},
   "outputs": [
    {
     "data": {
      "text/plain": [
       "132"
      ]
     },
     "execution_count": 229,
     "metadata": {},
     "output_type": "execute_result"
    }
   ],
   "source": [
    "len(ans)"
   ]
  },
  {
   "cell_type": "code",
   "execution_count": 230,
   "id": "b7657667",
   "metadata": {
    "scrolled": false
   },
   "outputs": [
    {
     "data": {
      "text/plain": [
       "['airt',\n",
       " 'airy',\n",
       " 'aitu',\n",
       " 'apart',\n",
       " 'apay',\n",
       " 'apia',\n",
       " 'apiary',\n",
       " 'appair',\n",
       " 'apparat',\n",
       " 'appay',\n",
       " 'appui',\n",
       " 'appuy',\n",
       " 'arar',\n",
       " 'ararat',\n",
       " 'aria',\n",
       " 'arrau',\n",
       " 'array',\n",
       " 'arry',\n",
       " 'arty',\n",
       " 'arup',\n",
       " 'arya',\n",
       " 'atap',\n",
       " 'atria',\n",
       " 'atrip',\n",
       " 'attar',\n",
       " 'attrap',\n",
       " 'attrit',\n",
       " 'aura',\n",
       " 'iata',\n",
       " 'itar',\n",
       " 'iyyar',\n",
       " 'pair',\n",
       " 'papa',\n",
       " 'papaya',\n",
       " 'pappy',\n",
       " 'papua',\n",
       " 'papyri',\n",
       " 'para',\n",
       " 'pari',\n",
       " 'parity',\n",
       " 'parp',\n",
       " 'parr',\n",
       " 'parry',\n",
       " 'part',\n",
       " 'parti',\n",
       " 'partita',\n",
       " 'partitur',\n",
       " 'partitura',\n",
       " 'party',\n",
       " 'patri',\n",
       " 'patria',\n",
       " 'patti',\n",
       " 'patty',\n",
       " 'paua',\n",
       " 'pipa',\n",
       " 'pippa',\n",
       " 'piraya',\n",
       " 'pita',\n",
       " 'pitapat',\n",
       " 'pitara',\n",
       " 'pitta',\n",
       " 'pituita',\n",
       " 'pituitary',\n",
       " 'prat',\n",
       " 'pratt',\n",
       " 'praty',\n",
       " 'prau',\n",
       " 'pray',\n",
       " 'pupa',\n",
       " 'puparia',\n",
       " 'pura',\n",
       " 'purpura',\n",
       " 'pyat',\n",
       " 'pyuria',\n",
       " 'rait',\n",
       " 'raita',\n",
       " 'raiyat',\n",
       " 'rapt',\n",
       " 'rara',\n",
       " 'rarity',\n",
       " 'rata',\n",
       " 'rattrap',\n",
       " 'ratty',\n",
       " 'riata',\n",
       " 'riprap',\n",
       " 'rita',\n",
       " 'rupia',\n",
       " 'ruta',\n",
       " 'taira',\n",
       " 'tait',\n",
       " 'tapa',\n",
       " 'tapir',\n",
       " 'tappa',\n",
       " 'tappit',\n",
       " 'tapu',\n",
       " 'tara',\n",
       " 'tarp',\n",
       " 'tarry',\n",
       " 'tart',\n",
       " 'tartar',\n",
       " 'tartary',\n",
       " 'tarty',\n",
       " 'tatar',\n",
       " 'tatary',\n",
       " 'tati',\n",
       " 'tatt',\n",
       " 'tatty',\n",
       " 'tatu',\n",
       " 'taut',\n",
       " 'tautit',\n",
       " 'tayra',\n",
       " 'tiar',\n",
       " 'tiara',\n",
       " 'tirra',\n",
       " 'trait',\n",
       " 'trap',\n",
       " 'trappy',\n",
       " 'trat',\n",
       " 'tratt',\n",
       " 'tray',\n",
       " 'tripura',\n",
       " 'tuart',\n",
       " 'tuatara',\n",
       " 'tupaia',\n",
       " 'urari',\n",
       " 'uttar',\n",
       " 'yapp',\n",
       " 'yappy',\n",
       " 'yarr',\n",
       " 'yaup',\n",
       " 'yrapt',\n",
       " 'yttria']"
      ]
     },
     "execution_count": 230,
     "metadata": {},
     "output_type": "execute_result"
    }
   ],
   "source": [
    "ans"
   ]
  },
  {
   "cell_type": "code",
   "execution_count": null,
   "id": "08075dbf",
   "metadata": {},
   "outputs": [],
   "source": []
  }
 ],
 "metadata": {
  "kernelspec": {
   "display_name": "Python 3 (ipykernel)",
   "language": "python",
   "name": "python3"
  },
  "language_info": {
   "codemirror_mode": {
    "name": "ipython",
    "version": 3
   },
   "file_extension": ".py",
   "mimetype": "text/x-python",
   "name": "python",
   "nbconvert_exporter": "python",
   "pygments_lexer": "ipython3",
   "version": "3.9.7"
  }
 },
 "nbformat": 4,
 "nbformat_minor": 5
}
